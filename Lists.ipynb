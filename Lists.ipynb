{
 "cells": [
  {
   "cell_type": "markdown",
   "id": "98ce1e47",
   "metadata": {},
   "source": [
    "Activity: simple_list"
   ]
  },
  {
   "cell_type": "code",
   "execution_count": 2,
   "id": "e6f366a4",
   "metadata": {},
   "outputs": [
    {
     "name": "stdout",
     "output_type": "stream",
     "text": [
      "['Move Forward', 'Move Backward', 'Turn Left', 'Turn Right']\n"
     ]
    }
   ],
   "source": [
    "def directions ():\n",
    "    directions = [\"Move Forward\", \"Move Backward\", \"Turn Left\", \"Turn Right\"]\n",
    "    return directions\n",
    "def run ():\n",
    "    print(directions())\n",
    "\n",
    "if __name__ == \"__main__\":\n",
    "    run()\n",
    "    "
   ]
  },
  {
   "cell_type": "markdown",
   "id": "45a7a46c",
   "metadata": {},
   "source": [
    "Indexing"
   ]
  },
  {
   "cell_type": "markdown",
   "id": "e672c0d5",
   "metadata": {},
   "source": [
    "Activity: index_list"
   ]
  },
  {
   "cell_type": "code",
   "execution_count": 24,
   "id": "f50b9bde",
   "metadata": {},
   "outputs": [
    {
     "name": "stdout",
     "output_type": "stream",
     "text": [
      "['Move Forward', 10, 'Move Backward', 5, 'Move Left', 3, 'Move Right', 1]\n",
      "Moving...\n",
      "Move Forward for 10 steps\n",
      "Move Backward for 5 steps\n",
      "Move Left for 3 steps\n",
      "Move Right for 1 steps\n",
      "well done\n"
     ]
    }
   ],
   "source": [
    "def movements ():\n",
    "    path = [\"Move Forward\", 10, \"Move Backward\", 5, \"Move Left\", 3, \"Move Right\", 1]\n",
    "    return path\n",
    "\n",
    "def run():\n",
    "    print(\"Moving...\")\n",
    "    paths = movements()\n",
    "    for i in range(0,7,2):\n",
    "        print(f\"{paths[i]} for {paths[i+1]} steps\")\n",
    "    print(\"well done\")\n",
    "\n",
    "print(movements())\n",
    "run()"
   ]
  },
  {
   "cell_type": "markdown",
   "id": "bd02b972",
   "metadata": {},
   "source": [
    "Activity: populate_list"
   ]
  },
  {
   "cell_type": "code",
   "execution_count": 49,
   "id": "95b0a360",
   "metadata": {},
   "outputs": [
    {
     "name": "stdout",
     "output_type": "stream",
     "text": [
      "Working out escape route...\n",
      "Please select a direction:\n",
      "0: Move Forward\n",
      "1: Move Backward\n",
      "2: Turn Left\n",
      "3: Turn Right\n",
      "1\n",
      "Please select a direction:\n",
      "0: Move Forward\n",
      "1: Move Backward\n",
      "2: Turn Left\n",
      "3: Turn Right\n",
      ".2\n",
      "Please select a direction:\n",
      "0: Move Forward\n",
      "1: Move Backward\n",
      "2: Turn Left\n",
      "3: Turn Right\n",
      "2\n",
      "Escape route: ['1', '.2', '2']\n"
     ]
    }
   ],
   "source": [
    "def directions ():\n",
    "    directions = [\"Move Forward\", \"Move Backward\", \"Turn Left\", \"Turn Right\"]\n",
    "    return directions\n",
    "\n",
    "def menu ():\n",
    "    print(\"Please select a direction:\")\n",
    "    direction = directions()\n",
    "    for i in range(len(direction)):\n",
    "        print(f\"{i}: {direction[i]}\")\n",
    "    direct = input()\n",
    "    return direct\n",
    "\n",
    "def run():\n",
    "    route =[]\n",
    "    print(\"Working out escape route...\")\n",
    "    for i in range(1,4):\n",
    "        route.append(menu())\n",
    "    print(f\"Escape route: {route}\")\n",
    "\n",
    "run()"
   ]
  },
  {
   "cell_type": "code",
   "execution_count": null,
   "id": "20365b32",
   "metadata": {},
   "outputs": [],
   "source": []
  }
 ],
 "metadata": {
  "kernelspec": {
   "display_name": "Python 3 (ipykernel)",
   "language": "python",
   "name": "python3"
  },
  "language_info": {
   "codemirror_mode": {
    "name": "ipython",
    "version": 3
   },
   "file_extension": ".py",
   "mimetype": "text/x-python",
   "name": "python",
   "nbconvert_exporter": "python",
   "pygments_lexer": "ipython3",
   "version": "3.9.12"
  }
 },
 "nbformat": 4,
 "nbformat_minor": 5
}
