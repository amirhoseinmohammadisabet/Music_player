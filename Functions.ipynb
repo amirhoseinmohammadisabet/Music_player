{
 "cells": [
  {
   "cell_type": "markdown",
   "id": "d02d4e03",
   "metadata": {},
   "source": [
    "Activity: ascii_code"
   ]
  },
  {
   "cell_type": "code",
   "execution_count": 28,
   "id": "5b0ee715",
   "metadata": {},
   "outputs": [
    {
     "name": "stdout",
     "output_type": "stream",
     "text": [
      "Program Started!\n",
      "Please enter a standard character:5\n",
      "The ASCII code for 5 is 53 \n",
      "Program Ended!\n"
     ]
    }
   ],
   "source": [
    "def ascii_code():\n",
    "    print(\"Program Started!\")\n",
    "    char1 = input(\"Please enter a standard character:\")\n",
    "    if len(char1) == 1:\n",
    "        print(f\"The ASCII code for {char1} is {ord(char1)} \")\n",
    "    else: \n",
    "        print(\"Please Enter just one charachter\")\n",
    "    print (\"Program Ended!\")\n",
    "ascii_code()"
   ]
  },
  {
   "cell_type": "markdown",
   "id": "907e3e02",
   "metadata": {},
   "source": [
    "Activity: ascii_character"
   ]
  },
  {
   "cell_type": "code",
   "execution_count": 29,
   "id": "eb169086",
   "metadata": {},
   "outputs": [
    {
     "name": "stdout",
     "output_type": "stream",
     "text": [
      "Program Started!\n",
      "Please enter an ASCII code:5\n",
      "Error! Please Enter between 32 - 126\n",
      "Program Ended!\n"
     ]
    }
   ],
   "source": [
    "def ascii_character():\n",
    "    print(\"Program Started!\")\n",
    "    char2 = abs(int(input(\"Please enter an ASCII code:\")))\n",
    "    if char2 in range (32,126):\n",
    "        print(f\"The character represented by the ASCII code {char2} is: {chr(char2)}.\")\n",
    "    else:\n",
    "        print(\"Error! Please Enter between 32 - 126\")\n",
    "    print(\"Program Ended!\")\n",
    "ascii_character()"
   ]
  },
  {
   "cell_type": "code",
   "execution_count": null,
   "id": "fb30372c",
   "metadata": {},
   "outputs": [],
   "source": []
  },
  {
   "cell_type": "code",
   "execution_count": null,
   "id": "3c1a2808",
   "metadata": {},
   "outputs": [],
   "source": []
  },
  {
   "cell_type": "code",
   "execution_count": null,
   "id": "d7555178",
   "metadata": {},
   "outputs": [],
   "source": []
  }
 ],
 "metadata": {
  "kernelspec": {
   "display_name": "Python 3 (ipykernel)",
   "language": "python",
   "name": "python3"
  },
  "language_info": {
   "codemirror_mode": {
    "name": "ipython",
    "version": 3
   },
   "file_extension": ".py",
   "mimetype": "text/x-python",
   "name": "python",
   "nbconvert_exporter": "python",
   "pygments_lexer": "ipython3",
   "version": "3.9.12"
  }
 },
 "nbformat": 4,
 "nbformat_minor": 5
}
